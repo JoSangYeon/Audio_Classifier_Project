{
 "cells": [
  {
   "cell_type": "code",
   "execution_count": 1,
   "id": "1a374f3a",
   "metadata": {},
   "outputs": [
    {
     "data": {
      "text/plain": [
       "'1.11.0'"
      ]
     },
     "execution_count": 1,
     "metadata": {},
     "output_type": "execute_result"
    }
   ],
   "source": [
    "import pickle\n",
    "import pandas as pd\n",
    "import numpy as np\n",
    "import matplotlib.pyplot as plt\n",
    "\n",
    "import torch\n",
    "import torch.nn as nn\n",
    "import torch.nn.functional as F\n",
    "import torch.optim as optim\n",
    "from torch.utils.data import Dataset, DataLoader\n",
    "from sklearn.model_selection import train_test_split\n",
    "from sklearn.manifold import TSNE\n",
    "\n",
    "from dataset import *\n",
    "from model import get_Model\n",
    "from learning import *\n",
    "from inference import *\n",
    "\n",
    "torch.__version__"
   ]
  },
  {
   "cell_type": "code",
   "execution_count": 24,
   "id": "7497f5a8",
   "metadata": {},
   "outputs": [],
   "source": [
    "def label2int(data, label_tags):\n",
    "    for i in range(len(data)):\n",
    "        data.iloc[i,1] = label_tags.index(data.iloc[i, 1])\n",
    "    return data\n",
    "\n",
    "\n",
    "def draw_history(history):\n",
    "    train_loss = history[\"train_loss\"]\n",
    "    train_acc = history[\"train_acc\"]\n",
    "    valid_loss = history[\"valid_loss\"]\n",
    "    valid_acc = history[\"valid_acc\"]\n",
    "\n",
    "    plt.subplot(2,1,1)\n",
    "    plt.title(\"Loss\")\n",
    "    plt.plot(train_loss, label=\"train\")\n",
    "    plt.plot(valid_loss, label=\"valid\")\n",
    "    plt.legend()\n",
    "\n",
    "    plt.subplot(2,1,2)\n",
    "    plt.title('Accuracy')\n",
    "    plt.plot(train_acc, label=\"train\")\n",
    "    plt.plot(valid_acc, label=\"valid\")\n",
    "    plt.legend()\n",
    "\n",
    "    plt.show()\n",
    "    \n",
    "def get_cluster(model, device, loader, tsne):\n",
    "    results = []\n",
    "    labels = []\n",
    "\n",
    "    model.to(device); model.eval()\n",
    "    with torch.no_grad():\n",
    "        for img, _, _, label in loader:\n",
    "            img = img.to(device)\n",
    "            _, embed = model(img)\n",
    "            results.append(embed.cpu().numpy())\n",
    "            labels.append(label)\n",
    "    results = np.concatenate(results)\n",
    "    _, labels = torch.max(torch.tensor(np.concatenate(labels)), dim=-1)\n",
    "    labels = labels.numpy()\n",
    "\n",
    "    embed_2d = tsne.fit_transform(results)\n",
    "    \n",
    "    return embed_2d, labels\n",
    "\n",
    "\n",
    "def draw_cluster(model_path, device, bert_loader, roberta_loader, title, plt_shape=(2,6)):\n",
    "    label_tags = ['Hat', 'Snare', 'Kick', 'Clap', 'Cymbals']\n",
    "    r, c, idx = plt_shape[0], plt_shape[1], 1\n",
    "    \n",
    "    plt.figure(figsize=(30,12), facecolor='azure')\n",
    "    for y in range(r):\n",
    "        for x in range(c):\n",
    "            tsne = TSNE(n_components=2, learning_rate='auto', init='random')\n",
    "            \n",
    "            model = torch.load(f\"models/\"+model_path[y][x])\n",
    "            loader = bert_loader if 'BERT' in model_path[y][x] else robert_loader\n",
    "\n",
    "            embed_2d, labels = get_cluster(model, device, loader, tsne)\n",
    "            \n",
    "            plt.subplot(r,c,idx)\n",
    "            for label in np.unique(labels):\n",
    "                tmp = embed_2d[labels==label]\n",
    "                plt.scatter(tmp[:,0], tmp[:,1], label=label_tags[label])\n",
    "            plt.title(title[y][x])\n",
    "            plt.legend()\n",
    "            idx += 1\n",
    "            \n",
    "    plt.savefig('Check_cluster.png')\n",
    "    plt.show()"
   ]
  },
  {
   "cell_type": "code",
   "execution_count": 10,
   "id": "0ddfd374",
   "metadata": {},
   "outputs": [],
   "source": [
    "model = torch.load('models/MyModel_2.pt')\n",
    "device = 'cuda' if torch.cuda.is_available() else 'cpu'\n",
    "test_path = \"test.csv\"\n",
    "test_df = pd.read_csv(test_path)\n",
    "test_dataset = MyDataset_triplet(test_df)\n",
    "test_loader = DataLoader(test_dataset, batch_size=32)"
   ]
  },
  {
   "cell_type": "code",
   "execution_count": 17,
   "id": "c6f9db35",
   "metadata": {},
   "outputs": [],
   "source": [
    "tsne = TSNE(n_components=2, learning_rate='auto', init='random')\n",
    "embed_2d, labels = get_cluster(model, device, test_loader, tsne)"
   ]
  },
  {
   "cell_type": "code",
   "execution_count": 22,
   "id": "8052c732",
   "metadata": {},
   "outputs": [
    {
     "data": {
      "image/png": "[encoded data removed]",
      "text/plain": [
       "<Figure size 432x288 with 1 Axes>"
      ]
     },
     "metadata": {
      "needs_background": "light"
     },
     "output_type": "display_data"
    }
   ],
   "source": [
    "label_tags = ['Hat', 'Snare', 'Kick', 'Clap', 'Cymbals']\n",
    "for label in np.unique(labels):\n",
    "    tmp = embed_2d[labels==label]\n",
    "    plt.scatter(tmp[:,0], tmp[:,1], label=label_tags[label])\n",
    "    \n",
    "plt.title('Triplet Model Clustering')\n",
    "plt.legend()\n",
    "plt.show()"
   ]
  },
  {
   "cell_type": "code",
   "execution_count": null,
   "id": "d4d13814",
   "metadata": {},
   "outputs": [],
   "source": []
  }
 ],
 "metadata": {
  "kernelspec": {
   "display_name": "Python 3 (ipykernel)",
   "language": "python",
   "name": "python3"
  },
  "language_info": {
   "codemirror_mode": {
    "name": "ipython",
    "version": 3
   },
   "file_extension": ".py",
   "mimetype": "text/x-python",
   "name": "python",
   "nbconvert_exporter": "python",
   "pygments_lexer": "ipython3",
   "version": "3.7.11"
  }
 },
 "nbformat": 4,
 "nbformat_minor": 5
}
